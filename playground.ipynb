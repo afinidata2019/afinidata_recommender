{
 "cells": [
  {
   "cell_type": "code",
   "execution_count": 1,
   "metadata": {},
   "outputs": [],
   "source": [
    "import os\n",
    "import unicodedata\n",
    "\n",
    "from dotenv import load_dotenv\n",
    "import pandas as pd\n",
    "from sqlalchemy import create_engine\n",
    "import numpy as np\n",
    "\n",
    "from recommender.read_db import ReadDatabase\n",
    "from recommender.preprocess import SetUpDataframes"
   ]
  },
  {
   "cell_type": "code",
   "execution_count": 2,
   "metadata": {},
   "outputs": [],
   "source": [
    "def strip_accents_lower(text):\n",
    "\n",
    "    try:\n",
    "        text = unicode(text, 'utf-8')\n",
    "    except NameError: # unicode is a default on python 3 \n",
    "        pass\n",
    "\n",
    "    text = unicodedata.normalize('NFD', text)\\\n",
    "           .encode('ascii', 'ignore')\\\n",
    "           .decode(\"utf-8\")\n",
    "\n",
    "    return str(text).lower()"
   ]
  },
  {
   "cell_type": "code",
   "execution_count": 3,
   "metadata": {},
   "outputs": [],
   "source": [
    "#dotenv_path = os.path.join(os.path.dirname(__file__), '.env')\n",
    "load_dotenv('.env')\n",
    "\n",
    "DB_URI = os.environ.get(\"DB_URI\")\n",
    "engine = create_engine(DB_URI)\n",
    "\n",
    "reader = ReadDatabase(engine, 'CM_BD')"
   ]
  },
  {
   "cell_type": "code",
   "execution_count": 4,
   "metadata": {},
   "outputs": [
    {
     "name": "stdout",
     "output_type": "stream",
     "text": [
      "----------------------------------------------------------------------\n",
      "reading columns response, value, question_id from table posts_questionresponse from database CM_BD\n"
     ]
    }
   ],
   "source": [
    "response_score_df = reader.get_data('response, value, question_id', 'posts_questionresponse', None)\n",
    "response_score_df['response_normalized'] = response_score_df['response'].apply(strip_accents_lower)"
   ]
  },
  {
   "cell_type": "code",
   "execution_count": 5,
   "metadata": {},
   "outputs": [
    {
     "name": "stdout",
     "output_type": "stream",
     "text": [
      "----------------------------------------------------------------------\n",
      "reading columns user_id, response, question_id from table posts_response from database CM_BD\n"
     ]
    }
   ],
   "source": [
    "responses_df = reader.get_data('user_id, response, question_id', 'posts_response', None)\n",
    "responses_df = responses_df.drop_duplicates().reset_index(drop=True)\n",
    "responses_df['response_normalized'] = responses_df['response'].apply(strip_accents_lower)"
   ]
  },
  {
   "cell_type": "code",
   "execution_count": 44,
   "metadata": {},
   "outputs": [],
   "source": [
    "by_question_id = responses_df.groupby(['question_id', 'valid_normalized']).sum()"
   ]
  },
  {
   "cell_type": "code",
   "execution_count": 48,
   "metadata": {},
   "outputs": [
    {
     "data": {
      "text/html": [
       "<div>\n",
       "<style scoped>\n",
       "    .dataframe tbody tr th:only-of-type {\n",
       "        vertical-align: middle;\n",
       "    }\n",
       "\n",
       "    .dataframe tbody tr th {\n",
       "        vertical-align: top;\n",
       "    }\n",
       "\n",
       "    .dataframe thead th {\n",
       "        text-align: right;\n",
       "    }\n",
       "</style>\n",
       "<table border=\"1\" class=\"dataframe\">\n",
       "  <thead>\n",
       "    <tr style=\"text-align: right;\">\n",
       "      <th></th>\n",
       "      <th></th>\n",
       "      <th>user_id</th>\n",
       "      <th>valid</th>\n",
       "    </tr>\n",
       "    <tr>\n",
       "      <th>question_id</th>\n",
       "      <th>valid_normalized</th>\n",
       "      <th></th>\n",
       "      <th></th>\n",
       "    </tr>\n",
       "  </thead>\n",
       "  <tbody>\n",
       "    <tr>\n",
       "      <th>3</th>\n",
       "      <th>False</th>\n",
       "      <td>299475</td>\n",
       "      <td>0.0</td>\n",
       "    </tr>\n",
       "    <tr>\n",
       "      <th>4</th>\n",
       "      <th>False</th>\n",
       "      <td>1189830</td>\n",
       "      <td>0.0</td>\n",
       "    </tr>\n",
       "    <tr>\n",
       "      <th>5</th>\n",
       "      <th>False</th>\n",
       "      <td>47519</td>\n",
       "      <td>0.0</td>\n",
       "    </tr>\n",
       "    <tr>\n",
       "      <th rowspan=\"2\" valign=\"top\">6</th>\n",
       "      <th>False</th>\n",
       "      <td>104421</td>\n",
       "      <td>0.0</td>\n",
       "    </tr>\n",
       "    <tr>\n",
       "      <th>True</th>\n",
       "      <td>35465</td>\n",
       "      <td>0.0</td>\n",
       "    </tr>\n",
       "    <tr>\n",
       "      <th>...</th>\n",
       "      <th>...</th>\n",
       "      <td>...</td>\n",
       "      <td>...</td>\n",
       "    </tr>\n",
       "    <tr>\n",
       "      <th>443</th>\n",
       "      <th>False</th>\n",
       "      <td>663369</td>\n",
       "      <td>0.0</td>\n",
       "    </tr>\n",
       "    <tr>\n",
       "      <th>444</th>\n",
       "      <th>False</th>\n",
       "      <td>1969842</td>\n",
       "      <td>0.0</td>\n",
       "    </tr>\n",
       "    <tr>\n",
       "      <th>445</th>\n",
       "      <th>False</th>\n",
       "      <td>1831518</td>\n",
       "      <td>0.0</td>\n",
       "    </tr>\n",
       "    <tr>\n",
       "      <th>446</th>\n",
       "      <th>False</th>\n",
       "      <td>2078497</td>\n",
       "      <td>0.0</td>\n",
       "    </tr>\n",
       "    <tr>\n",
       "      <th>447</th>\n",
       "      <th>False</th>\n",
       "      <td>45952</td>\n",
       "      <td>0.0</td>\n",
       "    </tr>\n",
       "  </tbody>\n",
       "</table>\n",
       "<p>386 rows × 2 columns</p>\n",
       "</div>"
      ],
      "text/plain": [
       "                              user_id  valid\n",
       "question_id valid_normalized                \n",
       "3           False              299475    0.0\n",
       "4           False             1189830    0.0\n",
       "5           False               47519    0.0\n",
       "6           False              104421    0.0\n",
       "            True                35465    0.0\n",
       "...                               ...    ...\n",
       "443         False              663369    0.0\n",
       "444         False             1969842    0.0\n",
       "445         False             1831518    0.0\n",
       "446         False             2078497    0.0\n",
       "447         False               45952    0.0\n",
       "\n",
       "[386 rows x 2 columns]"
      ]
     },
     "execution_count": 48,
     "metadata": {},
     "output_type": "execute_result"
    }
   ],
   "source": [
    "by_question_id[by_question_id['valid'] == 0.]"
   ]
  },
  {
   "cell_type": "code",
   "execution_count": 28,
   "metadata": {},
   "outputs": [],
   "source": [
    "question_ids = sorted(response_score_df['question_id'].unique())\n",
    "question_with_responses = sorted(responses_df['question_id'].unique())"
   ]
  },
  {
   "cell_type": "code",
   "execution_count": 29,
   "metadata": {},
   "outputs": [
    {
     "data": {
      "text/plain": [
       "346"
      ]
     },
     "execution_count": 29,
     "metadata": {},
     "output_type": "execute_result"
    }
   ],
   "source": [
    "len(question_ids)"
   ]
  },
  {
   "cell_type": "code",
   "execution_count": 32,
   "metadata": {},
   "outputs": [
    {
     "data": {
      "text/plain": [
       "[129,\n",
       " 130,\n",
       " 131,\n",
       " 132,\n",
       " 257,\n",
       " 10,\n",
       " 270,\n",
       " 16,\n",
       " 149,\n",
       " 23,\n",
       " 31,\n",
       " 35,\n",
       " 36,\n",
       " 38,\n",
       " 52,\n",
       " 53,\n",
       " 181,\n",
       " 188,\n",
       " 189,\n",
       " 190,\n",
       " 191,\n",
       " 64,\n",
       " 193,\n",
       " 67,\n",
       " 197,\n",
       " 199,\n",
       " 202,\n",
       " 210,\n",
       " 211,\n",
       " 213,\n",
       " 216,\n",
       " 217,\n",
       " 90,\n",
       " 218,\n",
       " 97,\n",
       " 112,\n",
       " 115,\n",
       " 117,\n",
       " 127]"
      ]
     },
     "execution_count": 32,
     "metadata": {},
     "output_type": "execute_result"
    }
   ],
   "source": [
    "list(set(question_with_responses) - set(question_ids))"
   ]
  },
  {
   "cell_type": "code",
   "execution_count": 9,
   "metadata": {},
   "outputs": [],
   "source": [
    "question_responses = response_score_df.groupby('question_id')"
   ]
  },
  {
   "cell_type": "code",
   "execution_count": 14,
   "metadata": {},
   "outputs": [
    {
     "data": {
      "text/html": [
       "<div>\n",
       "<style scoped>\n",
       "    .dataframe tbody tr th:only-of-type {\n",
       "        vertical-align: middle;\n",
       "    }\n",
       "\n",
       "    .dataframe tbody tr th {\n",
       "        vertical-align: top;\n",
       "    }\n",
       "\n",
       "    .dataframe thead th {\n",
       "        text-align: right;\n",
       "    }\n",
       "</style>\n",
       "<table border=\"1\" class=\"dataframe\">\n",
       "  <thead>\n",
       "    <tr style=\"text-align: right;\">\n",
       "      <th></th>\n",
       "      <th>response</th>\n",
       "      <th>value</th>\n",
       "      <th>question_id</th>\n",
       "    </tr>\n",
       "  </thead>\n",
       "  <tbody>\n",
       "    <tr>\n",
       "      <th>746</th>\n",
       "      <td>lo haremos despues</td>\n",
       "      <td>0</td>\n",
       "      <td>3</td>\n",
       "    </tr>\n",
       "    <tr>\n",
       "      <th>1444</th>\n",
       "      <td>no lo repitio</td>\n",
       "      <td>1</td>\n",
       "      <td>3</td>\n",
       "    </tr>\n",
       "    <tr>\n",
       "      <th>1445</th>\n",
       "      <td>por pocas partes</td>\n",
       "      <td>2</td>\n",
       "      <td>3</td>\n",
       "    </tr>\n",
       "    <tr>\n",
       "      <th>1446</th>\n",
       "      <td>por algunas partes</td>\n",
       "      <td>3</td>\n",
       "      <td>3</td>\n",
       "    </tr>\n",
       "    <tr>\n",
       "      <th>1447</th>\n",
       "      <td>si lo repitio</td>\n",
       "      <td>4</td>\n",
       "      <td>3</td>\n",
       "    </tr>\n",
       "  </tbody>\n",
       "</table>\n",
       "</div>"
      ],
      "text/plain": [
       "                response  value  question_id\n",
       "746   lo haremos despues      0            3\n",
       "1444       no lo repitio      1            3\n",
       "1445    por pocas partes      2            3\n",
       "1446  por algunas partes      3            3\n",
       "1447       si lo repitio      4            3"
      ]
     },
     "execution_count": 14,
     "metadata": {},
     "output_type": "execute_result"
    }
   ],
   "source": [
    "question_responses.get_group(3)"
   ]
  },
  {
   "cell_type": "code",
   "execution_count": 8,
   "metadata": {},
   "outputs": [],
   "source": [
    "def is_valid_response(question_id, response, normalized):\n",
    "    # if the question_id does not have registered responses in posts_questionresponse,\n",
    "    # then the following filter returns an empty list\n",
    "    if normalized:\n",
    "        valid_responses = response_score_df[response_score_df['question_id']==question_id]['response_normalized'].unique()\n",
    "    else:\n",
    "        valid_responses = response_score_df[response_score_df['question_id']==question_id]['response'].unique()\n",
    "    # looking for something in an empty list causes no harm\n",
    "    return response in valid_responses"
   ]
  },
  {
   "cell_type": "code",
   "execution_count": 13,
   "metadata": {},
   "outputs": [],
   "source": [
    "responses_df['valid'] = responses_df[\n",
    "    ['response', 'question_id']\n",
    "].apply(lambda row: is_valid_response(row['question_id'], row['response'], False), axis=1)\n",
    "responses_df['valid_normalized'] = responses_df[\n",
    "    ['response_normalized', 'question_id']\n",
    "].apply(lambda row: is_valid_response(row['question_id'], row['response_normalized'], True), axis=1)"
   ]
  },
  {
   "cell_type": "code",
   "execution_count": 18,
   "metadata": {},
   "outputs": [
    {
     "data": {
      "text/plain": [
       "array([ 42,  40,  33,  30,  11,  32,  43,  74,  70, 123, 124, 126, 134,\n",
       "       125, 128,  81, 141,  17,  78,  12,  15, 105, 107,  96, 106, 102,\n",
       "       101,   6,  19,  18,  55,  24,  99, 120,  66, 109, 108,  94, 100,\n",
       "        26,  69, 103, 110,  71,  39, 133,  27,  54,  87, 292, 247,  25,\n",
       "       273, 352, 319, 254, 203, 289, 295, 280, 250, 315, 278, 298, 347,\n",
       "       328, 376, 384, 370, 310, 282, 373,  98,  51,  73, 290, 366, 285,\n",
       "        80, 248, 309, 288, 283, 253, 279])"
      ]
     },
     "execution_count": 18,
     "metadata": {},
     "output_type": "execute_result"
    }
   ],
   "source": [
    "responses_df[(responses_df['valid']==False) & (responses_df['valid_normalized']==True)]['question_id'].unique()"
   ]
  },
  {
   "cell_type": "code",
   "execution_count": 21,
   "metadata": {},
   "outputs": [
    {
     "data": {
      "text/html": [
       "<div>\n",
       "<style scoped>\n",
       "    .dataframe tbody tr th:only-of-type {\n",
       "        vertical-align: middle;\n",
       "    }\n",
       "\n",
       "    .dataframe tbody tr th {\n",
       "        vertical-align: top;\n",
       "    }\n",
       "\n",
       "    .dataframe thead th {\n",
       "        text-align: right;\n",
       "    }\n",
       "</style>\n",
       "<table border=\"1\" class=\"dataframe\">\n",
       "  <thead>\n",
       "    <tr style=\"text-align: right;\">\n",
       "      <th></th>\n",
       "      <th>user_id</th>\n",
       "      <th>response</th>\n",
       "      <th>question_id</th>\n",
       "      <th>response_normalized</th>\n",
       "      <th>valid</th>\n",
       "      <th>valid_normalized</th>\n",
       "    </tr>\n",
       "  </thead>\n",
       "  <tbody>\n",
       "    <tr>\n",
       "      <th>0</th>\n",
       "      <td>831</td>\n",
       "      <td>Si</td>\n",
       "      <td>9</td>\n",
       "      <td>si</td>\n",
       "      <td>False</td>\n",
       "      <td>False</td>\n",
       "    </tr>\n",
       "    <tr>\n",
       "      <th>1</th>\n",
       "      <td>5</td>\n",
       "      <td>No la realicé</td>\n",
       "      <td>9</td>\n",
       "      <td>no la realice</td>\n",
       "      <td>False</td>\n",
       "      <td>False</td>\n",
       "    </tr>\n",
       "    <tr>\n",
       "      <th>2</th>\n",
       "      <td>1311</td>\n",
       "      <td>Si</td>\n",
       "      <td>10</td>\n",
       "      <td>si</td>\n",
       "      <td>False</td>\n",
       "      <td>False</td>\n",
       "    </tr>\n",
       "    <tr>\n",
       "      <th>3</th>\n",
       "      <td>5</td>\n",
       "      <td>No la realicé</td>\n",
       "      <td>11</td>\n",
       "      <td>no la realice</td>\n",
       "      <td>False</td>\n",
       "      <td>False</td>\n",
       "    </tr>\n",
       "    <tr>\n",
       "      <th>4</th>\n",
       "      <td>5</td>\n",
       "      <td>No la realicé</td>\n",
       "      <td>3</td>\n",
       "      <td>no la realice</td>\n",
       "      <td>False</td>\n",
       "      <td>False</td>\n",
       "    </tr>\n",
       "    <tr>\n",
       "      <th>...</th>\n",
       "      <td>...</td>\n",
       "      <td>...</td>\n",
       "      <td>...</td>\n",
       "      <td>...</td>\n",
       "      <td>...</td>\n",
       "      <td>...</td>\n",
       "    </tr>\n",
       "    <tr>\n",
       "      <th>15188</th>\n",
       "      <td>379</td>\n",
       "      <td>4</td>\n",
       "      <td>348</td>\n",
       "      <td>4</td>\n",
       "      <td>False</td>\n",
       "      <td>False</td>\n",
       "    </tr>\n",
       "    <tr>\n",
       "      <th>15189</th>\n",
       "      <td>35181</td>\n",
       "      <td>4</td>\n",
       "      <td>240</td>\n",
       "      <td>4</td>\n",
       "      <td>False</td>\n",
       "      <td>False</td>\n",
       "    </tr>\n",
       "    <tr>\n",
       "      <th>15190</th>\n",
       "      <td>351</td>\n",
       "      <td>0</td>\n",
       "      <td>389</td>\n",
       "      <td>0</td>\n",
       "      <td>False</td>\n",
       "      <td>False</td>\n",
       "    </tr>\n",
       "    <tr>\n",
       "      <th>15191</th>\n",
       "      <td>37332</td>\n",
       "      <td>4</td>\n",
       "      <td>240</td>\n",
       "      <td>4</td>\n",
       "      <td>False</td>\n",
       "      <td>False</td>\n",
       "    </tr>\n",
       "    <tr>\n",
       "      <th>15192</th>\n",
       "      <td>38591</td>\n",
       "      <td>Se le dificulta</td>\n",
       "      <td>202</td>\n",
       "      <td>se le dificulta</td>\n",
       "      <td>False</td>\n",
       "      <td>False</td>\n",
       "    </tr>\n",
       "  </tbody>\n",
       "</table>\n",
       "<p>12279 rows × 6 columns</p>\n",
       "</div>"
      ],
      "text/plain": [
       "       user_id         response  question_id response_normalized  valid  \\\n",
       "0          831               Si            9                  si  False   \n",
       "1            5    No la realicé            9       no la realice  False   \n",
       "2         1311               Si           10                  si  False   \n",
       "3            5    No la realicé           11       no la realice  False   \n",
       "4            5    No la realicé            3       no la realice  False   \n",
       "...        ...              ...          ...                 ...    ...   \n",
       "15188      379                4          348                   4  False   \n",
       "15189    35181                4          240                   4  False   \n",
       "15190      351                0          389                   0  False   \n",
       "15191    37332                4          240                   4  False   \n",
       "15192    38591  Se le dificulta          202     se le dificulta  False   \n",
       "\n",
       "       valid_normalized  \n",
       "0                 False  \n",
       "1                 False  \n",
       "2                 False  \n",
       "3                 False  \n",
       "4                 False  \n",
       "...                 ...  \n",
       "15188             False  \n",
       "15189             False  \n",
       "15190             False  \n",
       "15191             False  \n",
       "15192             False  \n",
       "\n",
       "[12279 rows x 6 columns]"
      ]
     },
     "execution_count": 21,
     "metadata": {},
     "output_type": "execute_result"
    }
   ],
   "source": [
    "responses_df[(responses_df['valid_normalized']==False)]"
   ]
  },
  {
   "cell_type": "code",
   "execution_count": 35,
   "metadata": {},
   "outputs": [
    {
     "data": {
      "text/plain": [
       "array([150,   3, 308, 299, 302, 349, 304, 407, 355, 335, 398, 266, 405,\n",
       "       261, 301, 408, 314, 437, 244, 443, 441, 361, 446, 379, 392, 245,\n",
       "       346, 403, 118, 436, 439, 265, 363, 444, 427, 313, 343, 438, 340,\n",
       "       394, 326, 305, 411, 258, 401, 374, 362, 418, 422, 323, 395, 414,\n",
       "       383, 445, 333, 409, 377, 276, 263, 372, 330, 434, 430, 357, 353,\n",
       "       387, 334, 329, 341, 440, 300, 307, 424, 267, 426, 256, 385, 390,\n",
       "       415, 339, 382, 360, 364, 332, 406, 356, 359, 311, 428, 397, 274,\n",
       "       378, 348, 423, 345, 404, 402, 435, 399, 416, 166, 268, 389, 420,\n",
       "       417, 312, 336, 169, 255, 264, 421, 155, 393, 247, 139, 431, 246,\n",
       "       173, 380, 391, 429, 413, 316,  94, 419, 153, 175, 297, 375, 128,\n",
       "       269, 400, 396, 156, 148, 126,  86, 146, 271, 442, 143, 158, 120,\n",
       "       337, 125, 432, 147, 344, 165, 161, 410, 152, 144, 145, 425, 134,\n",
       "       447, 159, 133, 121, 123, 157, 163,  80,  98,  41,  27, 104, 111,\n",
       "       208, 194, 321, 154, 233, 187, 206, 347, 240,  74, 286, 328, 250,\n",
       "       221, 352,  48, 226,  13, 319, 284, 207,   4, 253, 260, 239, 291,\n",
       "        72, 310, 298,  43, 229, 289,  66, 327, 288, 203, 225, 280, 235,\n",
       "        14,  55, 277,  73,  32, 182,  51,  39, 201,   7, 232, 231,  40,\n",
       "       184, 273, 384, 325, 110,  30,  50,  85, 141, 366,  11, 283,  70,\n",
       "       371, 368, 205, 386, 275, 292,  44,  42, 106,  21, 227,   8,  89,\n",
       "        84, 102, 287, 172, 178, 279,  76,  34, 160,  28, 295, 388, 249,\n",
       "        83, 238, 290,  93,  79, 234, 285, 198, 367, 376, 309, 315, 252,\n",
       "       100,  82, 282, 294, 122,   5, 350, 324, 373, 251, 137,  63, 320,\n",
       "       199, 322, 370, 278, 365, 248, 254, 105,  65,  75,  19,  47,  69,\n",
       "        99,  49])"
      ]
     },
     "execution_count": 35,
     "metadata": {},
     "output_type": "execute_result"
    }
   ],
   "source": [
    "responses_df[(responses_df['response'].apply(lambda x: x.isdigit())==True)]['question_id'].unique()"
   ]
  },
  {
   "cell_type": "code",
   "execution_count": 34,
   "metadata": {},
   "outputs": [
    {
     "data": {
      "text/html": [
       "<div>\n",
       "<style scoped>\n",
       "    .dataframe tbody tr th:only-of-type {\n",
       "        vertical-align: middle;\n",
       "    }\n",
       "\n",
       "    .dataframe tbody tr th {\n",
       "        vertical-align: top;\n",
       "    }\n",
       "\n",
       "    .dataframe thead th {\n",
       "        text-align: right;\n",
       "    }\n",
       "</style>\n",
       "<table border=\"1\" class=\"dataframe\">\n",
       "  <thead>\n",
       "    <tr style=\"text-align: right;\">\n",
       "      <th></th>\n",
       "      <th>user_id</th>\n",
       "      <th>response</th>\n",
       "      <th>question_id</th>\n",
       "      <th>valid</th>\n",
       "    </tr>\n",
       "  </thead>\n",
       "  <tbody>\n",
       "    <tr>\n",
       "      <th>0</th>\n",
       "      <td>831</td>\n",
       "      <td>si</td>\n",
       "      <td>9</td>\n",
       "      <td>False</td>\n",
       "    </tr>\n",
       "    <tr>\n",
       "      <th>1</th>\n",
       "      <td>5</td>\n",
       "      <td>no la realice</td>\n",
       "      <td>9</td>\n",
       "      <td>False</td>\n",
       "    </tr>\n",
       "    <tr>\n",
       "      <th>2</th>\n",
       "      <td>1311</td>\n",
       "      <td>si</td>\n",
       "      <td>10</td>\n",
       "      <td>False</td>\n",
       "    </tr>\n",
       "    <tr>\n",
       "      <th>3</th>\n",
       "      <td>5</td>\n",
       "      <td>no la realice</td>\n",
       "      <td>11</td>\n",
       "      <td>False</td>\n",
       "    </tr>\n",
       "    <tr>\n",
       "      <th>4</th>\n",
       "      <td>5</td>\n",
       "      <td>no la realice</td>\n",
       "      <td>3</td>\n",
       "      <td>False</td>\n",
       "    </tr>\n",
       "    <tr>\n",
       "      <th>...</th>\n",
       "      <td>...</td>\n",
       "      <td>...</td>\n",
       "      <td>...</td>\n",
       "      <td>...</td>\n",
       "    </tr>\n",
       "    <tr>\n",
       "      <th>15138</th>\n",
       "      <td>36318</td>\n",
       "      <td>si lo logra</td>\n",
       "      <td>210</td>\n",
       "      <td>False</td>\n",
       "    </tr>\n",
       "    <tr>\n",
       "      <th>15144</th>\n",
       "      <td>34178</td>\n",
       "      <td>un poco</td>\n",
       "      <td>257</td>\n",
       "      <td>False</td>\n",
       "    </tr>\n",
       "    <tr>\n",
       "      <th>15155</th>\n",
       "      <td>35586</td>\n",
       "      <td>si lo logro</td>\n",
       "      <td>218</td>\n",
       "      <td>False</td>\n",
       "    </tr>\n",
       "    <tr>\n",
       "      <th>15165</th>\n",
       "      <td>38499</td>\n",
       "      <td>si la realizo</td>\n",
       "      <td>217</td>\n",
       "      <td>False</td>\n",
       "    </tr>\n",
       "    <tr>\n",
       "      <th>15168</th>\n",
       "      <td>39640</td>\n",
       "      <td>si clasifica</td>\n",
       "      <td>211</td>\n",
       "      <td>False</td>\n",
       "    </tr>\n",
       "  </tbody>\n",
       "</table>\n",
       "<p>5219 rows × 4 columns</p>\n",
       "</div>"
      ],
      "text/plain": [
       "       user_id       response  question_id  valid\n",
       "0          831             si            9  False\n",
       "1            5  no la realice            9  False\n",
       "2         1311             si           10  False\n",
       "3            5  no la realice           11  False\n",
       "4            5  no la realice            3  False\n",
       "...        ...            ...          ...    ...\n",
       "15138    36318    si lo logra          210  False\n",
       "15144    34178        un poco          257  False\n",
       "15155    35586    si lo logro          218  False\n",
       "15165    38499  si la realizo          217  False\n",
       "15168    39640   si clasifica          211  False\n",
       "\n",
       "[5219 rows x 4 columns]"
      ]
     },
     "execution_count": 34,
     "metadata": {},
     "output_type": "execute_result"
    }
   ],
   "source": [
    "responses_df[(responses_df['response'].apply(lambda x: x.isdigit())==False) & (responses_df['valid']==False)]"
   ]
  },
  {
   "cell_type": "code",
   "execution_count": 36,
   "metadata": {},
   "outputs": [
    {
     "data": {
      "text/html": [
       "<div>\n",
       "<style scoped>\n",
       "    .dataframe tbody tr th:only-of-type {\n",
       "        vertical-align: middle;\n",
       "    }\n",
       "\n",
       "    .dataframe tbody tr th {\n",
       "        vertical-align: top;\n",
       "    }\n",
       "\n",
       "    .dataframe thead th {\n",
       "        text-align: right;\n",
       "    }\n",
       "</style>\n",
       "<table border=\"1\" class=\"dataframe\">\n",
       "  <thead>\n",
       "    <tr style=\"text-align: right;\">\n",
       "      <th></th>\n",
       "      <th>response</th>\n",
       "      <th>value</th>\n",
       "      <th>question_id</th>\n",
       "    </tr>\n",
       "  </thead>\n",
       "  <tbody>\n",
       "  </tbody>\n",
       "</table>\n",
       "</div>"
      ],
      "text/plain": [
       "Empty DataFrame\n",
       "Columns: [response, value, question_id]\n",
       "Index: []"
      ]
     },
     "execution_count": 36,
     "metadata": {},
     "output_type": "execute_result"
    }
   ],
   "source": []
  },
  {
   "cell_type": "code",
   "execution_count": 49,
   "metadata": {
    "scrolled": true
   },
   "outputs": [],
   "source": [
    "responses_valid_df = responses_df[responses_df['valid_normalized']==True]"
   ]
  },
  {
   "cell_type": "code",
   "execution_count": 28,
   "metadata": {},
   "outputs": [
    {
     "data": {
      "text/html": [
       "<div>\n",
       "<style scoped>\n",
       "    .dataframe tbody tr th:only-of-type {\n",
       "        vertical-align: middle;\n",
       "    }\n",
       "\n",
       "    .dataframe tbody tr th {\n",
       "        vertical-align: top;\n",
       "    }\n",
       "\n",
       "    .dataframe thead th {\n",
       "        text-align: right;\n",
       "    }\n",
       "</style>\n",
       "<table border=\"1\" class=\"dataframe\">\n",
       "  <thead>\n",
       "    <tr style=\"text-align: right;\">\n",
       "      <th></th>\n",
       "      <th>response</th>\n",
       "      <th>value</th>\n",
       "      <th>question_id</th>\n",
       "    </tr>\n",
       "  </thead>\n",
       "  <tbody>\n",
       "    <tr>\n",
       "      <th>679</th>\n",
       "      <td>lo haremos despues</td>\n",
       "      <td>0</td>\n",
       "      <td>160</td>\n",
       "    </tr>\n",
       "    <tr>\n",
       "      <th>680</th>\n",
       "      <td>5</td>\n",
       "      <td>4</td>\n",
       "      <td>160</td>\n",
       "    </tr>\n",
       "    <tr>\n",
       "      <th>681</th>\n",
       "      <td>3</td>\n",
       "      <td>3</td>\n",
       "      <td>160</td>\n",
       "    </tr>\n",
       "    <tr>\n",
       "      <th>682</th>\n",
       "      <td>1</td>\n",
       "      <td>2</td>\n",
       "      <td>160</td>\n",
       "    </tr>\n",
       "    <tr>\n",
       "      <th>683</th>\n",
       "      <td>0</td>\n",
       "      <td>1</td>\n",
       "      <td>160</td>\n",
       "    </tr>\n",
       "  </tbody>\n",
       "</table>\n",
       "</div>"
      ],
      "text/plain": [
       "               response  value  question_id\n",
       "679  lo haremos despues      0          160\n",
       "680                   5      4          160\n",
       "681                   3      3          160\n",
       "682                   1      2          160\n",
       "683                   0      1          160"
      ]
     },
     "execution_count": 28,
     "metadata": {},
     "output_type": "execute_result"
    }
   ],
   "source": [
    "response_score_df[response_score_df['question_id']==160]"
   ]
  },
  {
   "cell_type": "code",
   "execution_count": 26,
   "metadata": {},
   "outputs": [
    {
     "data": {
      "text/plain": [
       "True"
      ]
     },
     "execution_count": 26,
     "metadata": {},
     "output_type": "execute_result"
    }
   ],
   "source": [
    "is_valid_response(160, '3')"
   ]
  },
  {
   "cell_type": "code",
   "execution_count": 24,
   "metadata": {},
   "outputs": [
    {
     "name": "stdout",
     "output_type": "stream",
     "text": [
      "['solo algunos' 'si' 'aun no la realizamos' 'si pudo' 'aun no'\n",
      " 'lo haremos despues' '4']\n",
      "['lo haremos despues' 'aun no' 'solo algunos' 'si pudo']\n"
     ]
    }
   ],
   "source": [
    "print(responses_df[responses_df['question_id']==100]['response'].unique())\n",
    "print(response_score_df[response_score_df['question_id']==100]['response'].unique())"
   ]
  },
  {
   "cell_type": "code",
   "execution_count": 110,
   "metadata": {},
   "outputs": [],
   "source": [
    "def response_to_score(row):\n",
    "    try:\n",
    "        return response_score_df[\n",
    "            (response_score_df['question_id'] == row['question_id']) \n",
    "        ]\n",
    "    except IndexError:\n",
    "        return np.nan"
   ]
  },
  {
   "cell_type": "code",
   "execution_count": 78,
   "metadata": {},
   "outputs": [
    {
     "data": {
      "text/html": [
       "<div>\n",
       "<style scoped>\n",
       "    .dataframe tbody tr th:only-of-type {\n",
       "        vertical-align: middle;\n",
       "    }\n",
       "\n",
       "    .dataframe tbody tr th {\n",
       "        vertical-align: top;\n",
       "    }\n",
       "\n",
       "    .dataframe thead th {\n",
       "        text-align: right;\n",
       "    }\n",
       "</style>\n",
       "<table border=\"1\" class=\"dataframe\">\n",
       "  <thead>\n",
       "    <tr style=\"text-align: right;\">\n",
       "      <th></th>\n",
       "      <th>response</th>\n",
       "      <th>value</th>\n",
       "      <th>question_id</th>\n",
       "    </tr>\n",
       "  </thead>\n",
       "  <tbody>\n",
       "    <tr>\n",
       "      <th>941</th>\n",
       "      <td>Lo haremos después</td>\n",
       "      <td>0</td>\n",
       "      <td>54</td>\n",
       "    </tr>\n",
       "    <tr>\n",
       "      <th>942</th>\n",
       "      <td>Aún no</td>\n",
       "      <td>1</td>\n",
       "      <td>54</td>\n",
       "    </tr>\n",
       "    <tr>\n",
       "      <th>943</th>\n",
       "      <td>Con dificultad</td>\n",
       "      <td>2</td>\n",
       "      <td>54</td>\n",
       "    </tr>\n",
       "    <tr>\n",
       "      <th>944</th>\n",
       "      <td>Sí con ayuda</td>\n",
       "      <td>3</td>\n",
       "      <td>54</td>\n",
       "    </tr>\n",
       "    <tr>\n",
       "      <th>945</th>\n",
       "      <td>Sí lo logró</td>\n",
       "      <td>4</td>\n",
       "      <td>54</td>\n",
       "    </tr>\n",
       "  </tbody>\n",
       "</table>\n",
       "</div>"
      ],
      "text/plain": [
       "               response  value  question_id\n",
       "941  Lo haremos después      0           54\n",
       "942              Aún no      1           54\n",
       "943      Con dificultad      2           54\n",
       "944        Sí con ayuda      3           54\n",
       "945         Sí lo logró      4           54"
      ]
     },
     "execution_count": 78,
     "metadata": {},
     "output_type": "execute_result"
    }
   ],
   "source": [
    "response_to_score(responses_df.loc[1003])"
   ]
  },
  {
   "cell_type": "code",
   "execution_count": 51,
   "metadata": {},
   "outputs": [],
   "source": [
    "import matplotlib.pyplot as plt\n",
    "import seaborn as sns\n",
    "\n",
    "#matplotlib inline"
   ]
  },
  {
   "cell_type": "code",
   "execution_count": 55,
   "metadata": {},
   "outputs": [
    {
     "data": {
      "text/plain": [
       "<matplotlib.axes._subplots.AxesSubplot at 0x7f302ce06e10>"
      ]
     },
     "execution_count": 55,
     "metadata": {},
     "output_type": "execute_result"
    },
    {
     "data": {
      "image/png": "[encoded data removed]",
      "text/plain": [
       "<Figure size 1080x504 with 1 Axes>"
      ]
     },
     "metadata": {
      "needs_background": "light"
     },
     "output_type": "display_data"
    }
   ],
   "source": [
    "fig = plt.figure(figsize=(15,7))\n",
    "sns.distplot(responses_valid_df.groupby('user_id').count()['response'], kde=False)"
   ]
  },
  {
   "cell_type": "code",
   "execution_count": 58,
   "metadata": {},
   "outputs": [
    {
     "data": {
      "text/plain": [
       "<matplotlib.axes._subplots.AxesSubplot at 0x7f302cfcbd50>"
      ]
     },
     "execution_count": 58,
     "metadata": {},
     "output_type": "execute_result"
    },
    {
     "data": {
      "image/png": "[encoded data removed]",
      "text/plain": [
       "<Figure size 1080x504 with 1 Axes>"
      ]
     },
     "metadata": {
      "needs_background": "light"
     },
     "output_type": "display_data"
    }
   ],
   "source": [
    "fig = plt.figure(figsize=(15,7))\n",
    "sns.distplot(responses_valid_df.groupby('question_id').count()['response'], kde=False)"
   ]
  },
  {
   "cell_type": "code",
   "execution_count": null,
   "metadata": {},
   "outputs": [],
   "source": []
  }
 ],
 "metadata": {
  "kernelspec": {
   "display_name": "Python 3",
   "language": "python",
   "name": "python3"
  },
  "language_info": {
   "codemirror_mode": {
    "name": "ipython",
    "version": 3
   },
   "file_extension": ".py",
   "mimetype": "text/x-python",
   "name": "python",
   "nbconvert_exporter": "python",
   "pygments_lexer": "ipython3",
   "version": "3.7.5"
  }
 },
 "nbformat": 4,
 "nbformat_minor": 2
}
